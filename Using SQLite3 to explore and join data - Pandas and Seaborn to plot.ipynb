{
 "cells": [
  {
   "cell_type": "markdown",
   "metadata": {
    "collapsed": true
   },
   "source": [
    "## Importing Libraries"
   ]
  },
  {
   "cell_type": "code",
   "execution_count": 1,
   "metadata": {},
   "outputs": [],
   "source": [
    "import numpy as np\n",
    "import pandas as pd\n",
    "import matplotlib.pyplot as plt\n",
    "import seaborn as sns\n",
    "import sqlite3\n",
    "import warnings\n",
    "\n",
    "warnings.filterwarnings('ignore')"
   ]
  },
  {
   "cell_type": "markdown",
   "metadata": {},
   "source": [
    "## Exploring the tables in the database"
   ]
  },
  {
   "cell_type": "code",
   "execution_count": 2,
   "metadata": {},
   "outputs": [
    {
     "name": "stdout",
     "output_type": "stream",
     "text": [
      "    type             name         tbl_name  rootpage  \\\n",
      "0  table  sqlite_sequence  sqlite_sequence         3   \n",
      "1  table            facts            facts        47   \n",
      "2  table           cities           cities         2   \n",
      "\n",
      "                                                 sql  \n",
      "0             CREATE TABLE sqlite_sequence(name,seq)  \n",
      "1  CREATE TABLE \"facts\" (\"id\" INTEGER PRIMARY KEY...  \n",
      "2  CREATE TABLE cities (\\n        id integer prim...  \n"
     ]
    }
   ],
   "source": [
    "conn = sqlite3.connect('/home/yeachan153/Desktop/BDS/Python/Datasets/factbook.db')\n",
    "query = \"SELECT * FROM sqlite_master WHERE type = 'table'\"\n",
    "tables = pd.read_sql_query(query, conn)\n",
    "\n",
    "print(tables)"
   ]
  },
  {
   "cell_type": "markdown",
   "metadata": {},
   "source": [
    "#### Or we could return it as a list of nested tuples"
   ]
  },
  {
   "cell_type": "code",
   "execution_count": 3,
   "metadata": {
    "scrolled": true
   },
   "outputs": [
    {
     "data": {
      "text/plain": [
       "[('table',\n",
       "  'sqlite_sequence',\n",
       "  'sqlite_sequence',\n",
       "  3,\n",
       "  'CREATE TABLE sqlite_sequence(name,seq)'),\n",
       " ('table',\n",
       "  'facts',\n",
       "  'facts',\n",
       "  47,\n",
       "  'CREATE TABLE \"facts\" (\"id\" INTEGER PRIMARY KEY AUTOINCREMENT NOT NULL, \"code\" varchar(255) NOT NULL, \"name\" varchar(255) NOT NULL, \"area\" integer, \"area_land\" integer, \"area_water\" integer, \"population\" integer, \"population_growth\" float, \"birth_rate\" float, \"death_rate\" float, \"migration_rate\" float)'),\n",
       " ('table',\n",
       "  'cities',\n",
       "  'cities',\n",
       "  2,\n",
       "  'CREATE TABLE cities (\\n        id integer primary key,\\n        name text,\\n        population integer,\\n        capital bool,\\n        facts_id text,\\n        foreign key(facts_id) references facts(id)\\n    )')]"
      ]
     },
     "execution_count": 3,
     "metadata": {},
     "output_type": "execute_result"
    }
   ],
   "source": [
    "conn.execute(query).fetchall()"
   ]
  },
  {
   "cell_type": "markdown",
   "metadata": {},
   "source": [
    "## Exploring the \"facts\" table"
   ]
  },
  {
   "cell_type": "code",
   "execution_count": 4,
   "metadata": {},
   "outputs": [
    {
     "name": "stdout",
     "output_type": "stream",
     "text": [
      "   id code         name     area  area_land  area_water  population  \\\n",
      "0   1   af  Afghanistan   652230     652230           0    32564342   \n",
      "1   2   al      Albania    28748      27398        1350     3029278   \n",
      "2   3   ag      Algeria  2381741    2381741           0    39542166   \n",
      "3   4   an      Andorra      468        468           0       85580   \n",
      "4   5   ao       Angola  1246700    1246700           0    19625353   \n",
      "\n",
      "   population_growth  birth_rate  death_rate  migration_rate  \n",
      "0               2.32       38.57       13.89            1.51  \n",
      "1               0.30       12.92        6.58            3.30  \n",
      "2               1.84       23.67        4.31            0.92  \n",
      "3               0.12        8.13        6.96            0.00  \n",
      "4               2.78       38.78       11.49            0.46  \n"
     ]
    }
   ],
   "source": [
    "# Returning the first 5 rows\n",
    "query = \"SELECT * FROM facts LIMIT 5\"\n",
    "print(pd.read_sql_query(query,conn))"
   ]
  },
  {
   "cell_type": "markdown",
   "metadata": {},
   "source": [
    "### Getting basic summaries"
   ]
  },
  {
   "cell_type": "code",
   "execution_count": 5,
   "metadata": {},
   "outputs": [
    {
     "data": {
      "text/html": [
       "<div>\n",
       "<style scoped>\n",
       "    .dataframe tbody tr th:only-of-type {\n",
       "        vertical-align: middle;\n",
       "    }\n",
       "\n",
       "    .dataframe tbody tr th {\n",
       "        vertical-align: top;\n",
       "    }\n",
       "\n",
       "    .dataframe thead th {\n",
       "        text-align: right;\n",
       "    }\n",
       "</style>\n",
       "<table border=\"1\" class=\"dataframe\">\n",
       "  <thead>\n",
       "    <tr style=\"text-align: right;\">\n",
       "      <th></th>\n",
       "      <th>Minimum Population</th>\n",
       "      <th>Maximum Population</th>\n",
       "      <th>Minimum pop growth (%)</th>\n",
       "      <th>Max pop growth (%)</th>\n",
       "    </tr>\n",
       "  </thead>\n",
       "  <tbody>\n",
       "    <tr>\n",
       "      <th>0</th>\n",
       "      <td>0</td>\n",
       "      <td>7256490011</td>\n",
       "      <td>0.0</td>\n",
       "      <td>4.02</td>\n",
       "    </tr>\n",
       "  </tbody>\n",
       "</table>\n",
       "</div>"
      ],
      "text/plain": [
       "   Minimum Population  Maximum Population  Minimum pop growth (%)  \\\n",
       "0                   0          7256490011                     0.0   \n",
       "\n",
       "   Max pop growth (%)  \n",
       "0                4.02  "
      ]
     },
     "execution_count": 5,
     "metadata": {},
     "output_type": "execute_result"
    }
   ],
   "source": [
    "query = (\"SELECT MIN(population) \\\"Minimum Population\\\", MAX(population) \\\"Maximum Population\\\", MIN(population_growth) \\\"Minimum pop growth (%)\\\", MAX(population_growth) \\\"Max pop growth (%)\\\" \"\n",
    "         \"FROM facts\")\n",
    "\n",
    "conn.cursor().execute(query).fetchall() # The long way\n",
    "conn.execute(query).fetchall() # The shorter way\n",
    "pd.read_sql_query(query, conn) # THe shortest way"
   ]
  },
  {
   "cell_type": "markdown",
   "metadata": {},
   "source": [
    "There are some odd results here. There can't be a country with a population of zero, and there are no countries with a population of 7 billion. "
   ]
  },
  {
   "cell_type": "code",
   "execution_count": 6,
   "metadata": {},
   "outputs": [
    {
     "name": "stdout",
     "output_type": "stream",
     "text": [
      "  Country with zero population\n",
      "0                   Antarctica\n",
      "  Country with 7 billion people\n",
      "0                         World\n"
     ]
    }
   ],
   "source": [
    "# Using subqueries\n",
    "query = (\"SELECT name \\\"Country with zero population\\\" \"\n",
    "         \"FROM facts \"\n",
    "         \"WHERE population = (SELECT MIN(population) FROM facts)\")\n",
    "\n",
    "query2 = (\"SELECT name \\\"Country with 7 billion people\\\" \"\n",
    "          \"FROM facts \"\n",
    "          \"WHERE population = (SELECT MAX(population) FROM facts)\")\n",
    "\n",
    "print(pd.read_sql_query(query, conn))\n",
    "print(pd.read_sql_query(query2, conn))"
   ]
  },
  {
   "cell_type": "markdown",
   "metadata": {},
   "source": [
    "Seems like the table mistakenly suggests Antarctica has a population of zero. It also seems to have recorded the world as a country."
   ]
  },
  {
   "cell_type": "markdown",
   "metadata": {},
   "source": [
    "### Visualising population data (without 'World' and 'Antarctica')"
   ]
  },
  {
   "cell_type": "code",
   "execution_count": 7,
   "metadata": {},
   "outputs": [
    {
     "data": {
      "image/png": "[encoded data removed]",
      "text/plain": [
       "<Figure size 1152x720 with 4 Axes>"
      ]
     },
     "metadata": {},
     "output_type": "display_data"
    }
   ],
   "source": [
    "%matplotlib inline\n",
    "\n",
    "query = (\"SELECT population, population_growth, birth_rate, death_rate \"\n",
    "         \"FROM facts \"\n",
    "         \"WHERE population != (SELECT MIN(population) FROM facts) AND population != (SELECT MAX(population) FROM facts)\")\n",
    "\n",
    "data = pd.read_sql_query(query,conn)\n",
    "cols = list(data)\n",
    "title = ['Population (hundreds of millions)', 'Population growth (%)', 'Birth rate (per 1000 persons)', \n",
    "         'Death rate (per 1000 persons)']\n",
    "xaxis = ['Population', 'Growth rate (%)', 'Birth rate', 'Death rate']\n",
    "\n",
    "fig = plt.figure(figsize = (16,10))\n",
    "for i in range(len(cols)):\n",
    "    ax = fig.add_subplot(2,2,i+1)\n",
    "    if i == 0:\n",
    "        ax.set_xlim(0,0.5e9) # In hundreds of millions\n",
    "    sns.distplot(data[cols[i]].dropna(), kde = False, color = 'Black')\n",
    "    sns.set_style('darkgrid')\n",
    "    ax.set_title(title[i])\n",
    "    ax.set_ylabel('Count of occurences')\n",
    "    ax.set_xlabel(xaxis[i])"
   ]
  },
  {
   "cell_type": "markdown",
   "metadata": {},
   "source": [
    "The majority of countries seem to have a population between 0-100 million. The growth rate of countries seems to range from 0-4%. The majority of birthrates seem to be around 7-25 births per 1000 people, whereas for deathrates, that figure drops to around 5-10 deaths per 1000 people. Birthrate and deathrate calculations are per year."
   ]
  },
  {
   "cell_type": "markdown",
   "metadata": {},
   "source": [
    "### Countries with a high water to land proportion"
   ]
  },
  {
   "cell_type": "code",
   "execution_count": 8,
   "metadata": {},
   "outputs": [
    {
     "data": {
      "image/png": "[encoded data removed]",
      "text/plain": [
       "<Figure size 1152x720 with 1 Axes>"
      ]
     },
     "metadata": {},
     "output_type": "display_data"
    }
   ],
   "source": [
    "query = (\"SELECT name Country, CAST(area_water as FLOAT)/area_land ratio \"\n",
    "         \"FROM facts \"\n",
    "         \"GROUP BY Country \"\n",
    "         \"HAVING ratio > 0.2 \"\n",
    "         \"ORDER BY ratio DESC\"\n",
    "         )\n",
    "\n",
    "ax = pd.read_sql_query(query, conn).iloc[1:].plot.bar(x='Country', y = 'ratio',\n",
    "                      title = 'Water to land ratio', legend = False, figsize = (16,10))\n",
    "ax.set_ylabel('Ratio')\n",
    "sns.set_style('darkgrid')"
   ]
  },
  {
   "cell_type": "markdown",
   "metadata": {},
   "source": [
    "Here, I show countries with water to land ratios greater than 0.2. I excluded the first country as the ratio of the British Indian Ocean Territory exceeded 900."
   ]
  },
  {
   "cell_type": "markdown",
   "metadata": {},
   "source": [
    "### Exploring population density"
   ]
  },
  {
   "cell_type": "code",
   "execution_count": 9,
   "metadata": {},
   "outputs": [
    {
     "data": {
      "image/png": "[encoded data removed]",
      "text/plain": [
       "<Figure size 1152x720 with 1 Axes>"
      ]
     },
     "metadata": {},
     "output_type": "display_data"
    }
   ],
   "source": [
    "query = (\"SELECT name Country, population/area_land pop_density \"\n",
    "         \"FROM facts \"\n",
    "         \"ORDER BY pop_density DESC \"\n",
    "         \"LIMIT 20\")\n",
    "\n",
    "ax = pd.read_sql_query(query, conn).plot.bar(x = 'Country', y = 'pop_density', \n",
    "                 title = 'Population Density (Top 20)', figsize = (16,10), legend = False)\n",
    "ax.set_ylabel('Population/Land Area')\n",
    "plt.show()"
   ]
  },
  {
   "cell_type": "markdown",
   "metadata": {},
   "source": [
    "Here, we can see that the most populated countries in the world are Monaco, Singamore and Hong Kong. Macau is not included as it is an administrative region of the PRC."
   ]
  },
  {
   "cell_type": "markdown",
   "metadata": {},
   "source": [
    "## Joining the \"facts\" and \"cities\" table"
   ]
  },
  {
   "cell_type": "code",
   "execution_count": 11,
   "metadata": {},
   "outputs": [
    {
     "data": {
      "text/html": [
       "<div>\n",
       "<style scoped>\n",
       "    .dataframe tbody tr th:only-of-type {\n",
       "        vertical-align: middle;\n",
       "    }\n",
       "\n",
       "    .dataframe tbody tr th {\n",
       "        vertical-align: top;\n",
       "    }\n",
       "\n",
       "    .dataframe thead th {\n",
       "        text-align: right;\n",
       "    }\n",
       "</style>\n",
       "<table border=\"1\" class=\"dataframe\">\n",
       "  <thead>\n",
       "    <tr style=\"text-align: right;\">\n",
       "      <th></th>\n",
       "      <th>id</th>\n",
       "      <th>name</th>\n",
       "      <th>population</th>\n",
       "      <th>capital</th>\n",
       "      <th>facts_id</th>\n",
       "    </tr>\n",
       "  </thead>\n",
       "  <tbody>\n",
       "    <tr>\n",
       "      <th>0</th>\n",
       "      <td>1</td>\n",
       "      <td>Oranjestad</td>\n",
       "      <td>37000</td>\n",
       "      <td>1</td>\n",
       "      <td>216</td>\n",
       "    </tr>\n",
       "    <tr>\n",
       "      <th>1</th>\n",
       "      <td>2</td>\n",
       "      <td>Saint John'S</td>\n",
       "      <td>27000</td>\n",
       "      <td>1</td>\n",
       "      <td>6</td>\n",
       "    </tr>\n",
       "    <tr>\n",
       "      <th>2</th>\n",
       "      <td>3</td>\n",
       "      <td>Abu Dhabi</td>\n",
       "      <td>942000</td>\n",
       "      <td>1</td>\n",
       "      <td>184</td>\n",
       "    </tr>\n",
       "  </tbody>\n",
       "</table>\n",
       "</div>"
      ],
      "text/plain": [
       "   id          name  population  capital facts_id\n",
       "0   1    Oranjestad       37000        1      216\n",
       "1   2  Saint John'S       27000        1        6\n",
       "2   3     Abu Dhabi      942000        1      184"
      ]
     },
     "execution_count": 11,
     "metadata": {},
     "output_type": "execute_result"
    }
   ],
   "source": [
    "query = \"SELECT * FROM cities LIMIT 3\"\n",
    "pd.read_sql_query(query, conn)"
   ]
  },
  {
   "cell_type": "markdown",
   "metadata": {},
   "source": [
    "As we can see, we can join the \"cities\" table to \"facts\" through the \"facts_id\" column in cities, which corresponds to the IDs in facts. As I don't want any missing data, I'll use inner join."
   ]
  },
  {
   "cell_type": "code",
   "execution_count": 14,
   "metadata": {},
   "outputs": [
    {
     "data": {
      "text/html": [
       "<div>\n",
       "<style scoped>\n",
       "    .dataframe tbody tr th:only-of-type {\n",
       "        vertical-align: middle;\n",
       "    }\n",
       "\n",
       "    .dataframe tbody tr th {\n",
       "        vertical-align: top;\n",
       "    }\n",
       "\n",
       "    .dataframe thead th {\n",
       "        text-align: right;\n",
       "    }\n",
       "</style>\n",
       "<table border=\"1\" class=\"dataframe\">\n",
       "  <thead>\n",
       "    <tr style=\"text-align: right;\">\n",
       "      <th></th>\n",
       "      <th>id</th>\n",
       "      <th>code</th>\n",
       "      <th>name</th>\n",
       "      <th>area</th>\n",
       "      <th>area_land</th>\n",
       "      <th>area_water</th>\n",
       "      <th>population</th>\n",
       "      <th>population_growth</th>\n",
       "      <th>birth_rate</th>\n",
       "      <th>death_rate</th>\n",
       "      <th>migration_rate</th>\n",
       "      <th>id</th>\n",
       "      <th>name</th>\n",
       "      <th>population</th>\n",
       "      <th>capital</th>\n",
       "      <th>facts_id</th>\n",
       "    </tr>\n",
       "  </thead>\n",
       "  <tbody>\n",
       "    <tr>\n",
       "      <th>0</th>\n",
       "      <td>216</td>\n",
       "      <td>aa</td>\n",
       "      <td>Aruba</td>\n",
       "      <td>180</td>\n",
       "      <td>180</td>\n",
       "      <td>0</td>\n",
       "      <td>112162</td>\n",
       "      <td>1.33</td>\n",
       "      <td>12.56</td>\n",
       "      <td>8.18</td>\n",
       "      <td>8.92</td>\n",
       "      <td>1</td>\n",
       "      <td>Oranjestad</td>\n",
       "      <td>37000</td>\n",
       "      <td>1</td>\n",
       "      <td>216</td>\n",
       "    </tr>\n",
       "    <tr>\n",
       "      <th>1</th>\n",
       "      <td>6</td>\n",
       "      <td>ac</td>\n",
       "      <td>Antigua and Barbuda</td>\n",
       "      <td>442</td>\n",
       "      <td>442</td>\n",
       "      <td>0</td>\n",
       "      <td>92436</td>\n",
       "      <td>1.24</td>\n",
       "      <td>15.85</td>\n",
       "      <td>5.69</td>\n",
       "      <td>2.21</td>\n",
       "      <td>2</td>\n",
       "      <td>Saint John'S</td>\n",
       "      <td>27000</td>\n",
       "      <td>1</td>\n",
       "      <td>6</td>\n",
       "    </tr>\n",
       "    <tr>\n",
       "      <th>2</th>\n",
       "      <td>184</td>\n",
       "      <td>ae</td>\n",
       "      <td>United Arab Emirates</td>\n",
       "      <td>83600</td>\n",
       "      <td>83600</td>\n",
       "      <td>0</td>\n",
       "      <td>5779760</td>\n",
       "      <td>2.58</td>\n",
       "      <td>15.43</td>\n",
       "      <td>1.97</td>\n",
       "      <td>12.36</td>\n",
       "      <td>3</td>\n",
       "      <td>Abu Dhabi</td>\n",
       "      <td>942000</td>\n",
       "      <td>1</td>\n",
       "      <td>184</td>\n",
       "    </tr>\n",
       "  </tbody>\n",
       "</table>\n",
       "</div>"
      ],
      "text/plain": [
       "    id code                  name   area  area_land  area_water  population  \\\n",
       "0  216   aa                 Aruba    180        180           0      112162   \n",
       "1    6   ac   Antigua and Barbuda    442        442           0       92436   \n",
       "2  184   ae  United Arab Emirates  83600      83600           0     5779760   \n",
       "\n",
       "   population_growth  birth_rate  death_rate  migration_rate  id  \\\n",
       "0               1.33       12.56        8.18            8.92   1   \n",
       "1               1.24       15.85        5.69            2.21   2   \n",
       "2               2.58       15.43        1.97           12.36   3   \n",
       "\n",
       "           name  population  capital facts_id  \n",
       "0    Oranjestad       37000        1      216  \n",
       "1  Saint John'S       27000        1        6  \n",
       "2     Abu Dhabi      942000        1      184  "
      ]
     },
     "execution_count": 14,
     "metadata": {},
     "output_type": "execute_result"
    }
   ],
   "source": [
    "query = \"SELECT * FROM facts f INNER JOIN cities c ON f.id = c.facts_id LIMIT 3\"\n",
    "pd.read_sql_query(query,conn)"
   ]
  },
  {
   "cell_type": "markdown",
   "metadata": {},
   "source": [
    "### Gaining new insights by joinIng data (also subqueries)"
   ]
  },
  {
   "cell_type": "code",
   "execution_count": 39,
   "metadata": {},
   "outputs": [
    {
     "data": {
      "text/html": [
       "<div>\n",
       "<style scoped>\n",
       "    .dataframe tbody tr th:only-of-type {\n",
       "        vertical-align: middle;\n",
       "    }\n",
       "\n",
       "    .dataframe tbody tr th {\n",
       "        vertical-align: top;\n",
       "    }\n",
       "\n",
       "    .dataframe thead th {\n",
       "        text-align: right;\n",
       "    }\n",
       "</style>\n",
       "<table border=\"1\" class=\"dataframe\">\n",
       "  <thead>\n",
       "    <tr style=\"text-align: right;\">\n",
       "      <th></th>\n",
       "      <th>Country</th>\n",
       "      <th>Urban Population</th>\n",
       "      <th>Total Population</th>\n",
       "      <th>Urban Population %</th>\n",
       "    </tr>\n",
       "  </thead>\n",
       "  <tbody>\n",
       "    <tr>\n",
       "      <th>0</th>\n",
       "      <td>Uruguay</td>\n",
       "      <td>1672000</td>\n",
       "      <td>3341893</td>\n",
       "      <td>50.03</td>\n",
       "    </tr>\n",
       "    <tr>\n",
       "      <th>1</th>\n",
       "      <td>Congo, Republic of the</td>\n",
       "      <td>2445000</td>\n",
       "      <td>4755097</td>\n",
       "      <td>51.42</td>\n",
       "    </tr>\n",
       "    <tr>\n",
       "      <th>2</th>\n",
       "      <td>Brunei</td>\n",
       "      <td>241000</td>\n",
       "      <td>429646</td>\n",
       "      <td>56.09</td>\n",
       "    </tr>\n",
       "    <tr>\n",
       "      <th>3</th>\n",
       "      <td>New Caledonia</td>\n",
       "      <td>157000</td>\n",
       "      <td>271615</td>\n",
       "      <td>57.80</td>\n",
       "    </tr>\n",
       "    <tr>\n",
       "      <th>4</th>\n",
       "      <td>Virgin Islands</td>\n",
       "      <td>60000</td>\n",
       "      <td>103574</td>\n",
       "      <td>57.93</td>\n",
       "    </tr>\n",
       "    <tr>\n",
       "      <th>5</th>\n",
       "      <td>Falkland Islands (Islas Malvinas)</td>\n",
       "      <td>2000</td>\n",
       "      <td>3361</td>\n",
       "      <td>59.51</td>\n",
       "    </tr>\n",
       "    <tr>\n",
       "      <th>6</th>\n",
       "      <td>Djibouti</td>\n",
       "      <td>496000</td>\n",
       "      <td>828324</td>\n",
       "      <td>59.88</td>\n",
       "    </tr>\n",
       "    <tr>\n",
       "      <th>7</th>\n",
       "      <td>Australia</td>\n",
       "      <td>13789000</td>\n",
       "      <td>22751014</td>\n",
       "      <td>60.61</td>\n",
       "    </tr>\n",
       "    <tr>\n",
       "      <th>8</th>\n",
       "      <td>Iceland</td>\n",
       "      <td>206000</td>\n",
       "      <td>331918</td>\n",
       "      <td>62.06</td>\n",
       "    </tr>\n",
       "    <tr>\n",
       "      <th>9</th>\n",
       "      <td>Israel</td>\n",
       "      <td>5226000</td>\n",
       "      <td>8049314</td>\n",
       "      <td>64.92</td>\n",
       "    </tr>\n",
       "    <tr>\n",
       "      <th>10</th>\n",
       "      <td>United Arab Emirates</td>\n",
       "      <td>3903000</td>\n",
       "      <td>5779760</td>\n",
       "      <td>67.53</td>\n",
       "    </tr>\n",
       "    <tr>\n",
       "      <th>11</th>\n",
       "      <td>Puerto Rico</td>\n",
       "      <td>2475000</td>\n",
       "      <td>3598357</td>\n",
       "      <td>68.78</td>\n",
       "    </tr>\n",
       "    <tr>\n",
       "      <th>12</th>\n",
       "      <td>Bahamas, The</td>\n",
       "      <td>254000</td>\n",
       "      <td>324597</td>\n",
       "      <td>78.25</td>\n",
       "    </tr>\n",
       "    <tr>\n",
       "      <th>13</th>\n",
       "      <td>Kuwait</td>\n",
       "      <td>2406000</td>\n",
       "      <td>2788534</td>\n",
       "      <td>86.28</td>\n",
       "    </tr>\n",
       "    <tr>\n",
       "      <th>14</th>\n",
       "      <td>Saint Pierre and Miquelon</td>\n",
       "      <td>5000</td>\n",
       "      <td>5657</td>\n",
       "      <td>88.39</td>\n",
       "    </tr>\n",
       "    <tr>\n",
       "      <th>15</th>\n",
       "      <td>Guam</td>\n",
       "      <td>169000</td>\n",
       "      <td>161785</td>\n",
       "      <td>104.46</td>\n",
       "    </tr>\n",
       "    <tr>\n",
       "      <th>16</th>\n",
       "      <td>Northern Mariana Islands</td>\n",
       "      <td>56000</td>\n",
       "      <td>52344</td>\n",
       "      <td>106.98</td>\n",
       "    </tr>\n",
       "    <tr>\n",
       "      <th>17</th>\n",
       "      <td>American Samoa</td>\n",
       "      <td>64000</td>\n",
       "      <td>54343</td>\n",
       "      <td>117.77</td>\n",
       "    </tr>\n",
       "  </tbody>\n",
       "</table>\n",
       "</div>"
      ],
      "text/plain": [
       "                              Country  Urban Population  Total Population  \\\n",
       "0                             Uruguay           1672000           3341893   \n",
       "1              Congo, Republic of the           2445000           4755097   \n",
       "2                              Brunei            241000            429646   \n",
       "3                       New Caledonia            157000            271615   \n",
       "4                      Virgin Islands             60000            103574   \n",
       "5   Falkland Islands (Islas Malvinas)              2000              3361   \n",
       "6                            Djibouti            496000            828324   \n",
       "7                           Australia          13789000          22751014   \n",
       "8                             Iceland            206000            331918   \n",
       "9                              Israel           5226000           8049314   \n",
       "10               United Arab Emirates           3903000           5779760   \n",
       "11                        Puerto Rico           2475000           3598357   \n",
       "12                       Bahamas, The            254000            324597   \n",
       "13                             Kuwait           2406000           2788534   \n",
       "14          Saint Pierre and Miquelon              5000              5657   \n",
       "15                               Guam            169000            161785   \n",
       "16           Northern Mariana Islands             56000             52344   \n",
       "17                     American Samoa             64000             54343   \n",
       "\n",
       "    Urban Population %  \n",
       "0                50.03  \n",
       "1                51.42  \n",
       "2                56.09  \n",
       "3                57.80  \n",
       "4                57.93  \n",
       "5                59.51  \n",
       "6                59.88  \n",
       "7                60.61  \n",
       "8                62.06  \n",
       "9                64.92  \n",
       "10               67.53  \n",
       "11               68.78  \n",
       "12               78.25  \n",
       "13               86.28  \n",
       "14               88.39  \n",
       "15              104.46  \n",
       "16              106.98  \n",
       "17              117.77  "
      ]
     },
     "execution_count": 39,
     "metadata": {},
     "output_type": "execute_result"
    }
   ],
   "source": [
    "query = (\"SELECT f.name Country, c.urban_pop \\\"Urban Population\\\", f.population \\\"Total Population\\\", ROUND(CAST(c.urban_pop as FLOAT)/f.population*100, 2) \\\"Urban Population %\\\" \"\n",
    "         \"FROM facts f \"\n",
    "         \"INNER JOIN (SELECT f.name Country, SUM(c.population) urban_pop FROM facts f INNER JOIN cities c on c.facts_id = f.id GROUP BY f.name ORDER BY 1) \"\n",
    "         \"c ON f.name = c.Country \"\n",
    "         \"WHERE \\\"Urban Population %\\\" > 50 \"\n",
    "         \"ORDER BY \\\"Urban Population %\\\" ASC\"\n",
    "         )\n",
    "\n",
    "pd.read_sql_query(query,conn)"
   ]
  },
  {
   "cell_type": "markdown",
   "metadata": {},
   "source": [
    "Here, I combined data from both tables to calculate which countries seem to have most of their population centered around their major cities. I only included countries where the total urban population exceeded 50% of the total country population."
   ]
  }
 ],
 "metadata": {
  "kernelspec": {
   "display_name": "Python 3",
   "language": "python",
   "name": "python3"
  },
  "language_info": {
   "codemirror_mode": {
    "name": "ipython",
    "version": 3
   },
   "file_extension": ".py",
   "mimetype": "text/x-python",
   "name": "python",
   "nbconvert_exporter": "python",
   "pygments_lexer": "ipython3",
   "version": "3.6.5"
  }
 },
 "nbformat": 4,
 "nbformat_minor": 2
}
